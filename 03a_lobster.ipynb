{
 "cells": [
  {
   "cell_type": "markdown",
   "metadata": {},
   "source": [
    "Naive Bayes is an extremely simple classification scheme that often works amazingly well in practice.  We'll apply it to a very simple dataset having to do with the survival of lobsters.  We'll begin by importing the numerical library numpy, which allows us to manipulate arrays, the data management library pandas, and the plotting utility matplotlib\n"
   ]
  },
  {
   "cell_type": "code",
   "execution_count": 1,
   "metadata": {},
   "outputs": [
    {
     "name": "stderr",
     "output_type": "stream",
     "text": [
      "/home/brinkerhoff/anaconda3/lib/python3.6/site-packages/ipykernel_launcher.py:8: ParserWarning: Falling back to the 'python' engine because the 'c' engine does not support regex separators (separators > 1 char and different from '\\s+' are interpreted as regex); you can avoid this warning by specifying engine='python'.\n",
      "  \n"
     ]
    },
    {
     "data": {
      "text/plain": [
       "<Figure size 1800x1500 with 1 Axes>"
      ]
     },
     "metadata": {},
     "output_type": "display_data"
    }
   ],
   "source": [
    "import numpy as np \n",
    "import pandas as pd\n",
    "import matplotlib as mpl\n",
    "mpl.rcParams['figure.figsize'] = (18,15)\n",
    "mpl.rcParams['font.size'] = 20\n",
    "import matplotlib.pyplot as plt\n",
    "\n",
    "data = pd.read_csv('datasets/lobster_survive.dat',header=0,sep=r\"\\s{2,}\")\n",
    "X = data['Len'].values.astype(float)\n",
    "Y = data['Survive'].values.astype(float)\n",
    "m = len(Y) #Number of da\n",
    "\n",
    "N_classes = 2\n",
    "\n",
    "plt.hist(X[Y==0],label='Dead Lobster',bins=np.arange(25,60,3),histtype='step')\n",
    "plt.hist(X[Y==1],label='Alive Lobster',bins=np.arange(25,60,3),histtype='step')\n",
    "plt.xlabel('Lobster Size')\n",
    "plt.ylabel('Count')\n",
    "plt.legend()\n",
    "plt.show()\n"
   ]
  },
  {
   "cell_type": "markdown",
   "metadata": {},
   "source": [
    "The method works in a two step processs: First, for a set of classes $C_k \\in \\{C_1,C_2,\\ldots,C_N\\}$, where $N$ is the number of possible class labels (2 in this case), use Bayes' rule to generate a probability that a data instance with a set of features $x_j$ belongs to each class, given a set of training data $D=(X,Y)$.  In step two, assign the class label with the highest probability to that data instance.  For each class $C_k$, we can use Bayes' rule to determine the probability:\n",
    "$$ \n",
    "P(C_k|x_j,D) \\propto P(x_j|C_k) P(C_k|D).\n",
    "$$\n",
    "However, this equation implies that we have to compute the joint probability of $\\mathbf{x}$, where there could be some complicated correlations between features.  We can simplify this model by assuming that all of the features ($x_i \\in \\mathbf{X}$) are independent, or\n",
    "$$ P(\\mathbf{x}|D,C_k) \\approx \\prod_{j=1}^n P(x_j|D,C_k), $$\n",
    "where $n$ is the number of features in a data instance.  This is the so-called *naive Bayes* assumption, naive because it assumes no correlation between features.  This leads to the simpler model:\n",
    "$$\n",
    "P(C_k|\\mathbf{x},D) \\propto P(C_k|D) \\prod_{j=1}^n P(x_j|D,C_k).\n",
    "$$\n",
    "\n",
    "Now, we need to specify the distributions for the class prior $P(C_k|D)$ and class likelihoods $P(x_i|D,C_k)$.  We can model the prior probability as a Bernoulli distribution \n",
    "$$P(C=C_k|D) = \\eta_k, $$\n",
    "where $\\eta_k$ is the probability that we would label the feature $\\mathbf{x}$ as class $C_k$, before having seen any of the values in $\\mathbf{x}$.  There are different options here.  We could say that all classes are equally likely, so $\\eta=1/N$.  A more common practice is to estimate $\\eta$ as the maximum likelihood value from the training data $D$, which for a Bernoulli distribution is \n",
    "$$\n",
    "\\eta_k = \\frac{\\sum_{i=1}^n [C = C_k]}{\\sum_{i=1}^n},\n",
    "$$\n",
    "or the total proportion of the training data where the label is $C_k$.  Note the use of the [Iverson Bracket](https://en.wikipedia.org/wiki/Iverson_bracket) in the above definition.\n",
    "\n"
   ]
  },
  {
   "cell_type": "code",
   "execution_count": 2,
   "metadata": {},
   "outputs": [
    {
     "name": "stdout",
     "output_type": "stream",
     "text": [
      "[0.50314465 0.49685535]\n"
     ]
    }
   ],
   "source": [
    "etas = np.zeros((N_classes))\n",
    "for C_k in [0,1]:\n",
    "    etas[C_k] = len(Y[Y==C_k])/len(Y)\n",
    "print(etas) #About fifty/fifty : a balanced dataset"
   ]
  },
  {
   "cell_type": "markdown",
   "metadata": {},
   "source": [
    "For the likelihood, since we're considering continuous features, it makes sense to use a continous likelihood function.  While there are many options, a normal distribution should do the trick.  However, we need to use the training data to estimate the parameters of this normal distribution.  This is similar to what we did for the prior:\n",
    "$$\n",
    "P(x_j|C_k,D) = \\int P(x_j|\\mu_j,\\sigma_j^2)\\, P(\\mu_j|C_k,D) \\, P(\\sigma_j^2|C_k,D) \\;\\mathrm{d}\\mu_j\\, \\mathrm{d}\\sigma_j^2.\n",
    "$$\n",
    "Assigning complete probability distributions to $\\mu_j$ and $\\sigma_j^2$ is the Bayesian thing to do, but leads to some complicated math and perhaps no analytical solution.  Instead, let's do what we did before and compute $\\mu_j$ and $\\sigma_j^2$ using maximum likelihood estimators, which for normally-distributed data are given by\n",
    "$$\n",
    "\\mu_{jk,MLE} = \\frac{\\sum_{i=1}^n x_{ji} [C_i=C_k]}{\\sum_{i=1}^n [C_i=C_k]},\n",
    "$$\n",
    "and \n",
    "$$\n",
    "\\sigma_{jk,MLE}^2 = \\frac{ (\\sum_{i=1}^n (x_{ji} - \\mu_j)^2 [C_i=C_k])}{(\\sum_{i=1}^n [C_i=C_k]) - 1},\n",
    "$$\n",
    "which are just the sample mean and sample variance of the training data examples for which the class is $C_k$."
   ]
  },
  {
   "cell_type": "code",
   "execution_count": 3,
   "metadata": {},
   "outputs": [
    {
     "name": "stdout",
     "output_type": "stream",
     "text": [
      "[36.825      43.82278481] [33.969375   34.04454414]\n"
     ]
    }
   ],
   "source": [
    "mus = np.zeros((N_classes))\n",
    "variances = np.zeros((N_classes))\n",
    "for C_k in [0,1]:\n",
    "    mus[C_k] = np.mean(X[Y==C_k])\n",
    "    variances[C_k] = np.std(X[Y==C_k])**2\n",
    "print(mus,variances)"
   ]
  },
  {
   "cell_type": "markdown",
   "metadata": {},
   "source": [
    "Now, we can just evaluate the probability of each example, with respect to each class, and classify as the one with the highest probability."
   ]
  },
  {
   "cell_type": "code",
   "execution_count": 4,
   "metadata": {},
   "outputs": [
    {
     "name": "stdout",
     "output_type": "stream",
     "text": [
      "[[0.9398707  0.0601293 ]\n",
      " [0.9398707  0.0601293 ]\n",
      " [0.9398707  0.0601293 ]\n",
      " [0.9398707  0.0601293 ]\n",
      " [0.9398707  0.0601293 ]\n",
      " [0.8941854  0.1058146 ]\n",
      " [0.8941854  0.1058146 ]\n",
      " [0.8941854  0.1058146 ]\n",
      " [0.8941854  0.1058146 ]\n",
      " [0.8941854  0.1058146 ]\n",
      " [0.8941854  0.1058146 ]\n",
      " [0.8941854  0.1058146 ]\n",
      " [0.8941854  0.1058146 ]\n",
      " [0.8941854  0.1058146 ]\n",
      " [0.8941854  0.1058146 ]\n",
      " [0.82033507 0.17966493]\n",
      " [0.82033507 0.17966493]\n",
      " [0.82033507 0.17966493]\n",
      " [0.82033507 0.17966493]\n",
      " [0.82033507 0.17966493]\n",
      " [0.82033507 0.17966493]\n",
      " [0.82033507 0.17966493]\n",
      " [0.82033507 0.17966493]\n",
      " [0.82033507 0.17966493]\n",
      " [0.82033507 0.17966493]\n",
      " [0.82033507 0.17966493]\n",
      " [0.82033507 0.17966493]\n",
      " [0.82033507 0.17966493]\n",
      " [0.82033507 0.17966493]\n",
      " [0.82033507 0.17966493]\n",
      " [0.82033507 0.17966493]\n",
      " [0.82033507 0.17966493]\n",
      " [0.82033507 0.17966493]\n",
      " [0.82033507 0.17966493]\n",
      " [0.82033507 0.17966493]\n",
      " [0.82033507 0.17966493]\n",
      " [0.82033507 0.17966493]\n",
      " [0.71144839 0.28855161]\n",
      " [0.71144839 0.28855161]\n",
      " [0.71144839 0.28855161]\n",
      " [0.71144839 0.28855161]\n",
      " [0.71144839 0.28855161]\n",
      " [0.71144839 0.28855161]\n",
      " [0.71144839 0.28855161]\n",
      " [0.71144839 0.28855161]\n",
      " [0.71144839 0.28855161]\n",
      " [0.71144839 0.28855161]\n",
      " [0.71144839 0.28855161]\n",
      " [0.71144839 0.28855161]\n",
      " [0.71144839 0.28855161]\n",
      " [0.71144839 0.28855161]\n",
      " [0.71144839 0.28855161]\n",
      " [0.71144839 0.28855161]\n",
      " [0.71144839 0.28855161]\n",
      " [0.71144839 0.28855161]\n",
      " [0.71144839 0.28855161]\n",
      " [0.71144839 0.28855161]\n",
      " [0.71144839 0.28855161]\n",
      " [0.57093172 0.42906828]\n",
      " [0.57093172 0.42906828]\n",
      " [0.57093172 0.42906828]\n",
      " [0.57093172 0.42906828]\n",
      " [0.57093172 0.42906828]\n",
      " [0.57093172 0.42906828]\n",
      " [0.57093172 0.42906828]\n",
      " [0.57093172 0.42906828]\n",
      " [0.57093172 0.42906828]\n",
      " [0.57093172 0.42906828]\n",
      " [0.57093172 0.42906828]\n",
      " [0.57093172 0.42906828]\n",
      " [0.57093172 0.42906828]\n",
      " [0.57093172 0.42906828]\n",
      " [0.57093172 0.42906828]\n",
      " [0.57093172 0.42906828]\n",
      " [0.57093172 0.42906828]\n",
      " [0.57093172 0.42906828]\n",
      " [0.57093172 0.42906828]\n",
      " [0.57093172 0.42906828]\n",
      " [0.57093172 0.42906828]\n",
      " [0.57093172 0.42906828]\n",
      " [0.4178254  0.5821746 ]\n",
      " [0.4178254  0.5821746 ]\n",
      " [0.4178254  0.5821746 ]\n",
      " [0.4178254  0.5821746 ]\n",
      " [0.4178254  0.5821746 ]\n",
      " [0.4178254  0.5821746 ]\n",
      " [0.4178254  0.5821746 ]\n",
      " [0.4178254  0.5821746 ]\n",
      " [0.4178254  0.5821746 ]\n",
      " [0.4178254  0.5821746 ]\n",
      " [0.4178254  0.5821746 ]\n",
      " [0.4178254  0.5821746 ]\n",
      " [0.4178254  0.5821746 ]\n",
      " [0.4178254  0.5821746 ]\n",
      " [0.4178254  0.5821746 ]\n",
      " [0.4178254  0.5821746 ]\n",
      " [0.4178254  0.5821746 ]\n",
      " [0.4178254  0.5821746 ]\n",
      " [0.4178254  0.5821746 ]\n",
      " [0.4178254  0.5821746 ]\n",
      " [0.4178254  0.5821746 ]\n",
      " [0.4178254  0.5821746 ]\n",
      " [0.4178254  0.5821746 ]\n",
      " [0.4178254  0.5821746 ]\n",
      " [0.4178254  0.5821746 ]\n",
      " [0.4178254  0.5821746 ]\n",
      " [0.4178254  0.5821746 ]\n",
      " [0.4178254  0.5821746 ]\n",
      " [0.4178254  0.5821746 ]\n",
      " [0.27895479 0.72104521]\n",
      " [0.27895479 0.72104521]\n",
      " [0.27895479 0.72104521]\n",
      " [0.27895479 0.72104521]\n",
      " [0.27895479 0.72104521]\n",
      " [0.27895479 0.72104521]\n",
      " [0.27895479 0.72104521]\n",
      " [0.27895479 0.72104521]\n",
      " [0.27895479 0.72104521]\n",
      " [0.27895479 0.72104521]\n",
      " [0.27895479 0.72104521]\n",
      " [0.27895479 0.72104521]\n",
      " [0.27895479 0.72104521]\n",
      " [0.27895479 0.72104521]\n",
      " [0.27895479 0.72104521]\n",
      " [0.27895479 0.72104521]\n",
      " [0.27895479 0.72104521]\n",
      " [0.27895479 0.72104521]\n",
      " [0.17247566 0.82752434]\n",
      " [0.17247566 0.82752434]\n",
      " [0.17247566 0.82752434]\n",
      " [0.17247566 0.82752434]\n",
      " [0.17247566 0.82752434]\n",
      " [0.17247566 0.82752434]\n",
      " [0.17247566 0.82752434]\n",
      " [0.17247566 0.82752434]\n",
      " [0.17247566 0.82752434]\n",
      " [0.17247566 0.82752434]\n",
      " [0.17247566 0.82752434]\n",
      " [0.17247566 0.82752434]\n",
      " [0.17247566 0.82752434]\n",
      " [0.17247566 0.82752434]\n",
      " [0.17247566 0.82752434]\n",
      " [0.17247566 0.82752434]\n",
      " [0.17247566 0.82752434]\n",
      " [0.10089697 0.89910303]\n",
      " [0.10089697 0.89910303]\n",
      " [0.10089697 0.89910303]\n",
      " [0.10089697 0.89910303]\n",
      " [0.10089697 0.89910303]\n",
      " [0.10089697 0.89910303]\n",
      " [0.10089697 0.89910303]\n",
      " [0.10089697 0.89910303]\n",
      " [0.05694719 0.94305281]\n",
      " [0.05694719 0.94305281]\n",
      " [0.05694719 0.94305281]\n",
      " [0.05694719 0.94305281]\n",
      " [0.05694719 0.94305281]\n",
      " [0.05694719 0.94305281]\n",
      " [0.03145359 0.96854641]]\n"
     ]
    }
   ],
   "source": [
    "class_posterior = np.zeros((m,N_classes))\n",
    "\n",
    "for i in range(m):\n",
    "    for C_k in range(N_classes):\n",
    "        likelihood = 1./np.sqrt(2*np.pi*variances[C_k])*np.exp(-(X[i] - mus[C_k])**2/(2*variances[C_k]))\n",
    "        prior = etas[C_k]\n",
    "        class_posterior[i,C_k] = likelihood*prior\n",
    "    class_posterior[i,:]/=np.sum(class_posterior[i])\n",
    "\n",
    "print(class_posterior)"
   ]
  },
  {
   "cell_type": "markdown",
   "metadata": {},
   "source": [
    "This is easier to understand if we plot it:"
   ]
  },
  {
   "cell_type": "code",
   "execution_count": 5,
   "metadata": {},
   "outputs": [
    {
     "data": {
      "image/png": "[encoded data removed]",
      "text/plain": [
       "<Figure size 432x288 with 2 Axes>"
      ]
     },
     "metadata": {},
     "output_type": "display_data"
    }
   ],
   "source": [
    "plt.hist(X[Y==0],label='Dead Lobster',bins=np.arange(25,60,3),histtype='step')\n",
    "plt.hist(X[Y==1],label='Alive Lobster',bins=np.arange(25,60,3),histtype='step')\n",
    "plt.xlabel('Lobster Size')\n",
    "plt.ylabel('Count')\n",
    "plt.legend()\n",
    "\n",
    "ax2 = plt.twinx()\n",
    "ax2.plot(X,class_posterior[:,0])\n",
    "ax2.plot(X,class_posterior[:,1])\n",
    "ax2.set_ylabel('Class Posterior Probability')\n",
    "plt.show()\n"
   ]
  },
  {
   "cell_type": "code",
   "execution_count": null,
   "metadata": {},
   "outputs": [],
   "source": []
  }
 ],
 "metadata": {
  "kernelspec": {
   "display_name": "Python 3",
   "language": "python",
   "name": "python3"
  },
  "language_info": {
   "codemirror_mode": {
    "name": "ipython",
    "version": 3
   },
   "file_extension": ".py",
   "mimetype": "text/x-python",
   "name": "python",
   "nbconvert_exporter": "python",
   "pygments_lexer": "ipython3",
   "version": "3.6.5"
  }
 },
 "nbformat": 4,
 "nbformat_minor": 2
}
