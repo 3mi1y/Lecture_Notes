{
 "cells": [
  {
   "cell_type": "markdown",
   "metadata": {},
   "source": [
    "Here, we'll show how to learn parameter values via maximum likelihood estimation for the cancer problem, where $Y$ is a random variable indicating whether we have a rare form of cancer, and $X$ is a test with certain accuracy properties.  To begin with, in the interest of transparency, we can look at the method for generating an artificial dataset that we can use to learn parameters."
   ]
  },
  {
   "cell_type": "code",
   "execution_count": 19,
   "metadata": {},
   "outputs": [],
   "source": [
    "import numpy as np\n",
    "\n",
    "m = 1000000 # Number of data points\n",
    "\n",
    "X = np.zeros(m,dtype=int)\n",
    "Y = np.zeros(m,dtype=int)\n",
    "\n",
    "P_cancer = 1e-4               # Incidence rate of cancer in the population at large\n",
    "P_sensitivity = 0.9           # Probability of detection when cancer is true\n",
    "P_false_positive = 0.01       # False positive probability\n",
    "\n",
    "# Loop over all patients\n",
    "for i in range(m):\n",
    "    # Roll the dice for whether the patient has cancer\n",
    "    if np.random.rand()<P_cancer: \n",
    "        # Unlucky branch\n",
    "        X[i] = 1\n",
    "        # Roll the dice for whether the cancer is detected by the test\n",
    "        if np.random.rand()<P_sensitivity:\n",
    "            Y[i] = 1\n",
    "    else:\n",
    "        # Lucky branch\n",
    "        # Test for whether the patient gets a false positive\n",
    "        if np.random.rand()<P_false_positive:\n",
    "            Y[i] = 1"
   ]
  },
  {
   "cell_type": "markdown",
   "metadata": {},
   "source": [
    "Now that we have a dataset (X and Y), we can use it to come up with some parameters.  First, the maximum likelihood estimator for $P(X=1)=\\theta_{prior} = \\frac{1}{m}\\sum_{i=1}^m X_i$."
   ]
  },
  {
   "cell_type": "code",
   "execution_count": 20,
   "metadata": {},
   "outputs": [
    {
     "name": "stdout",
     "output_type": "stream",
     "text": [
      "0.00011\n"
     ]
    }
   ],
   "source": [
    "theta_prior = np.sum(X)/m\n",
    "print (theta_prior)"
   ]
  },
  {
   "cell_type": "markdown",
   "metadata": {},
   "source": [
    "That's pretty close to what we know to be the true value or $10^{-4}$.  Now let's try to get the true positive rate $P(Y=1|X=1) = \\theta_{positive} = \\frac{\\sum_{i=1}^m Y_i [X_i=1]}{\\sum_{i=1}^m [X_i=1]}$"
   ]
  },
  {
   "cell_type": "code",
   "execution_count": 23,
   "metadata": {},
   "outputs": [
    {
     "name": "stdout",
     "output_type": "stream",
     "text": [
      "0.9363636363636364\n"
     ]
    }
   ],
   "source": [
    "theta_positive = np.sum(Y[X==1])/np.sum(X==1)\n",
    "print (theta_positive)"
   ]
  },
  {
   "cell_type": "markdown",
   "metadata": {},
   "source": [
    "That one's not quite as good, primarily because we only have a limited number of cases (around 100) to learn this parameter from.  Finally, we can do something similar for the false positive rate."
   ]
  },
  {
   "cell_type": "code",
   "execution_count": 24,
   "metadata": {},
   "outputs": [
    {
     "name": "stdout",
     "output_type": "stream",
     "text": [
      "0.01009010991209033\n"
     ]
    }
   ],
   "source": [
    "theta_negative = np.sum(Y[X==0])/np.sum(X==0)\n",
    "print (theta_negative)"
   ]
  },
  {
   "cell_type": "markdown",
   "metadata": {},
   "source": [
    "This is very close to the correct value because we have nearly a million examples to choose from.  "
   ]
  },
  {
   "cell_type": "code",
   "execution_count": null,
   "metadata": {},
   "outputs": [],
   "source": []
  }
 ],
 "metadata": {
  "kernelspec": {
   "display_name": "Python 3",
   "language": "python",
   "name": "python3"
  },
  "language_info": {
   "codemirror_mode": {
    "name": "ipython",
    "version": 3
   },
   "file_extension": ".py",
   "mimetype": "text/x-python",
   "name": "python",
   "nbconvert_exporter": "python",
   "pygments_lexer": "ipython3",
   "version": "3.6.5"
  }
 },
 "nbformat": 4,
 "nbformat_minor": 2
}
